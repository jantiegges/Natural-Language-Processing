{
 "cells": [
  {
   "cell_type": "markdown",
   "metadata": {},
   "source": [
    "# COMP550 NLP: Assignment 1"
   ]
  },
  {
   "cell_type": "code",
   "execution_count": 3,
   "metadata": {},
   "outputs": [],
   "source": [
    "import pandas as pd\n",
    "import numpy as np\n",
    "import matplotlib.pyplot as plt\n",
    "import nltk"
   ]
  },
  {
   "cell_type": "markdown",
   "metadata": {},
   "source": [
    "## Part 1: Preprocessing"
   ]
  },
  {
   "cell_type": "code",
   "execution_count": 22,
   "metadata": {},
   "outputs": [],
   "source": [
    "# import txt files into nltk\n",
    "from nltk.corpus import PlaintextCorpusReader\n",
    "corpus_root = 'data/'\n",
    "fact_corpus = PlaintextCorpusReader(corpus_root, 'facts.txt')\n",
    "fake_corpus = PlaintextCorpusReader(corpus_root, 'fakes.txt')\n",
    "fact_text = [fact_corpus.raw(file_id) for file_id in fact_corpus.fileids()]\n",
    "fake_text = [fake_corpus.raw(file_id) for file_id in fake_corpus.fileids()]\n",
    "\n",
    "# Create a dataframe\n",
    "data = [{'text': text, 'is_true': 1} for text in fact_text] + [{'text': text, 'is_true': 0} for text in fake_text]\n",
    "df = pd.DataFrame(data)\n",
    "\n",
    "# Shuffle the DataFrame\n",
    "df = df.sample(frac=1).reset_index(drop=True)\n",
    "\n",
    "df.head()\n",
    "\n",
    "# output the dataframe to csv\n",
    "df.to_csv('data.csv', index=False)\n"
   ]
  },
  {
   "cell_type": "markdown",
   "metadata": {},
   "source": [
    "### Feature Extraction"
   ]
  },
  {
   "cell_type": "code",
   "execution_count": 10,
   "metadata": {},
   "outputs": [
    {
     "name": "stdout",
     "output_type": "stream",
     "text": [
      "(231, 956)\n",
      "(231, 868)\n"
     ]
    }
   ],
   "source": [
    "# feature extraction\n",
    "from sklearn.feature_extraction.text import CountVectorizer\n",
    "from sklearn.feature_extraction.text import TfidfTransformer\n",
    "\n",
    "# create a count vectorizer object\n",
    "count_vect = CountVectorizer()\n",
    "\n",
    "# create a tfidf transformer object\n",
    "tfidf_transformer = TfidfTransformer()\n",
    "\n",
    "# extract features from fact and fake corpus\n",
    "fact_counts = count_vect.fit_transform(fact_df['text'])\n",
    "fact_tfidf = tfidf_transformer.fit_transform(fact_counts)\n",
    "\n",
    "fake_counts = count_vect.fit_transform(fake_df['text'])\n",
    "fake_tfidf = tfidf_transformer.fit_transform(fake_counts)\n",
    "\n",
    "# check results\n",
    "print(fact_tfidf.shape)\n",
    "print(fake_tfidf.shape)"
   ]
  },
  {
   "cell_type": "code",
   "execution_count": null,
   "metadata": {},
   "outputs": [],
   "source": []
  }
 ],
 "metadata": {
  "kernelspec": {
   "display_name": "comp550-nlp",
   "language": "python",
   "name": "python3"
  },
  "language_info": {
   "codemirror_mode": {
    "name": "ipython",
    "version": 3
   },
   "file_extension": ".py",
   "mimetype": "text/x-python",
   "name": "python",
   "nbconvert_exporter": "python",
   "pygments_lexer": "ipython3",
   "version": "3.11.3"
  },
  "orig_nbformat": 4
 },
 "nbformat": 4,
 "nbformat_minor": 2
}
