{
 "cells": [
  {
   "cell_type": "markdown",
   "metadata": {},
   "source": [
    "# COMP550 NLP: Assignment 1"
   ]
  },
  {
   "cell_type": "code",
   "execution_count": 1,
   "metadata": {},
   "outputs": [],
   "source": [
    "import pandas as pd\n",
    "import numpy as np\n",
    "import matplotlib.pyplot as plt\n",
    "import nltk\n",
    "import csv"
   ]
  },
  {
   "cell_type": "markdown",
   "metadata": {},
   "source": [
    "## Part 1: Understanding the data"
   ]
  },
  {
   "cell_type": "code",
   "execution_count": 2,
   "metadata": {},
   "outputs": [
    {
     "data": {
      "text/html": [
       "<div>\n",
       "<style scoped>\n",
       "    .dataframe tbody tr th:only-of-type {\n",
       "        vertical-align: middle;\n",
       "    }\n",
       "\n",
       "    .dataframe tbody tr th {\n",
       "        vertical-align: top;\n",
       "    }\n",
       "\n",
       "    .dataframe thead th {\n",
       "        text-align: right;\n",
       "    }\n",
       "</style>\n",
       "<table border=\"1\" class=\"dataframe\">\n",
       "  <thead>\n",
       "    <tr style=\"text-align: right;\">\n",
       "      <th></th>\n",
       "      <th>animal</th>\n",
       "      <th>fact</th>\n",
       "    </tr>\n",
       "  </thead>\n",
       "  <tbody>\n",
       "    <tr>\n",
       "      <th>0</th>\n",
       "      <td>lion</td>\n",
       "      <td>Lions are social animals that live in groups c...</td>\n",
       "    </tr>\n",
       "    <tr>\n",
       "      <th>1</th>\n",
       "      <td>lion</td>\n",
       "      <td>The scientific name for the lion is Panthera leo.</td>\n",
       "    </tr>\n",
       "    <tr>\n",
       "      <th>2</th>\n",
       "      <td>lion</td>\n",
       "      <td>Lions are apex predators and are often referre...</td>\n",
       "    </tr>\n",
       "    <tr>\n",
       "      <th>3</th>\n",
       "      <td>lion</td>\n",
       "      <td>Female lions, known as lionesses, are the prim...</td>\n",
       "    </tr>\n",
       "    <tr>\n",
       "      <th>4</th>\n",
       "      <td>lion</td>\n",
       "      <td>Lions have retractable claws, which they use f...</td>\n",
       "    </tr>\n",
       "  </tbody>\n",
       "</table>\n",
       "</div>"
      ],
      "text/plain": [
       "  animal                                               fact\n",
       "0   lion  Lions are social animals that live in groups c...\n",
       "1   lion  The scientific name for the lion is Panthera leo.\n",
       "2   lion  Lions are apex predators and are often referre...\n",
       "3   lion  Female lions, known as lionesses, are the prim...\n",
       "4   lion  Lions have retractable claws, which they use f..."
      ]
     },
     "execution_count": 2,
     "metadata": {},
     "output_type": "execute_result"
    }
   ],
   "source": [
    "df_facts = pd.read_csv('data/facts.csv', quoting=csv.QUOTE_MINIMAL)\n",
    "df_fakes = pd.read_csv('data/fakes.csv', quotechar='\"')\n",
    "df_facts.head()"
   ]
  },
  {
   "cell_type": "code",
   "execution_count": 3,
   "metadata": {},
   "outputs": [],
   "source": [
    "# # Your existing CSV file path\n",
    "# input_csv_file = 'data/facts.csv'\n",
    "\n",
    "# # New CSV file path with corrected formatting\n",
    "# output_csv_file = 'data/facts-2.csv'\n",
    "\n",
    "# # Read the existing CSV file and write it with the correct formatting\n",
    "# with open(input_csv_file, 'r', newline='') as infile, open(output_csv_file, 'w', newline='') as outfile:\n",
    "\n",
    "#     for row in infile:\n",
    "#         corrected_row = []\n",
    "#         for word in row.split():\n",
    "#             if word.startswith('\"'):\n",
    "#                 corrected_row.append(word.replace('\"', '\"\"'))\n",
    "#             elif word.startswith(\"'\"):\n",
    "#                 corrected_row.append(word.replace(\"'\", '\"\"'))\n",
    "#             elif word.endswith('\"') or word.endswith('\".') or word.endswith('\",'):\n",
    "#                 if word.endswith('.\"'):\n",
    "#                     corrected_row.append(word)\n",
    "#                 else:\n",
    "#                     corrected_row.append(word.replace('\"', '\"\"'))\n",
    "#             elif word.endswith(\"'\") or word.endswith(\"'.\") or word.endswith(\"',\"):\n",
    "#                 corrected_row.append(word.replace(\"'\", '\"\"'))\n",
    "               \n",
    "#             else:\n",
    "#                 corrected_row.append(word)\n",
    "#         # break after 5 rows\n",
    "#         # join the corrected row back into a string\n",
    "#         corrected_row = ' '.join(corrected_row)\n",
    "\n",
    "#         # break after 5 rows\n",
    "#         outfile.write(corrected_row + '\\n')"
   ]
  },
  {
   "cell_type": "code",
   "execution_count": 9,
   "metadata": {},
   "outputs": [],
   "source": [
    "# Open the CSV file for reading\n",
    "with open('data/facts-cleaned.csv', 'r', newline='') as csv_file:\n",
    "    csv_reader = csv.reader(csv_file)\n",
    "    \n",
    "    # Skip the first row\n",
    "    next(csv_reader)\n",
    "    \n",
    "    # Extract the second column and store it in a list\n",
    "    fact_list = [row[1] for row in csv_reader]\n",
    "\n",
    "# Open a text file for writing\n",
    "with open('facts.txt', 'w') as txt_file:\n",
    "    # Write the extracted facts to the text file, one per line\n",
    "    for fact in fact_list:\n",
    "        txt_file.write(fact + '\\n')"
   ]
  },
  {
   "cell_type": "code",
   "execution_count": 53,
   "metadata": {},
   "outputs": [
    {
     "name": "stderr",
     "output_type": "stream",
     "text": [
      "/var/folders/cb/d47kvqdd0bq1ypryj3xy47tr0000gn/T/ipykernel_31231/1064596053.py:6: FutureWarning: DataFrame.applymap has been deprecated. Use DataFrame.map instead.\n",
      "  df = df_facts.applymap(replace_quotes)\n",
      "/var/folders/cb/d47kvqdd0bq1ypryj3xy47tr0000gn/T/ipykernel_31231/1064596053.py:16: FutureWarning: DataFrame.applymap has been deprecated. Use DataFrame.map instead.\n",
      "  df = df_fakes.applymap(replace_quotes)\n"
     ]
    }
   ],
   "source": [
    "# Define a custom function to replace \"\" with '' after the first occurrence\n",
    "def replace_quotes(cell):\n",
    "    return cell.replace('\"', \"'\", 1)\n",
    "\n",
    "# Apply the custom function to each cell in the DataFrame\n",
    "df = df_facts.applymap(replace_quotes)\n",
    "\n",
    "# Concatenate the rows into a single column with line breaks and remove the label\n",
    "output_text = df.apply(lambda row: ' '.join(row[1:-1]), axis=1)\n",
    "\n",
    "# Save the concatenated text to a text file\n",
    "with open('facts.txt', 'w') as file:\n",
    "    file.write('\\n'.join(output_text))\n",
    "\n",
    "# same for fake \n",
    "df = df_fakes.applymap(replace_quotes)\n",
    "output_text = df.apply(lambda row: ' '.join(row[1:]), axis=1)\n",
    "with open('fakes.txt', 'w') as file:\n",
    "    file.write('\\n'.join(output_text))\n"
   ]
  },
  {
   "cell_type": "code",
   "execution_count": 39,
   "metadata": {},
   "outputs": [],
   "source": [
    "# Input CSV file name\n",
    "input_csv_file = 'data/fakes.csv'\n",
    "\n",
    "# Output text file name\n",
    "output_txt_file = 'output.txt'\n",
    "\n",
    "# Read the CSV file into a pandas DataFrame\n",
    "df = pd.read_csv(input_csv_file, header=None, names=['label', 'text'])\n",
    "\n",
    "# Remove the label and adjust quotes at the beginning and end of the text\n",
    "df['text'] = df['text'].str.strip('\"')\n",
    "df['text'] = df['text'].apply(lambda x: f'\"{x}\"' if '\"' in x else x)\n",
    "\n",
    "# Write the modified text to the output text file without adding extra newline characters\n",
    "with open(output_txt_file, 'w') as txt_file:\n",
    "    txt_file.write(df['text'].str.cat(sep='\\n'))"
   ]
  },
  {
   "cell_type": "code",
   "execution_count": 3,
   "metadata": {},
   "outputs": [],
   "source": [
    "# create txt files\n",
    "with open('data/facts.txt', 'w') as f:\n",
    "    for fact in df_facts['fact']:\n",
    "        f.write(fact + '\\n')\n",
    "\n",
    "with open('data/fakes.txt', 'w') as f:\n",
    "    for fake in df_fakes['fake_fact']:\n",
    "        f.write(fake + '\\n')\n"
   ]
  },
  {
   "cell_type": "code",
   "execution_count": 4,
   "metadata": {},
   "outputs": [
    {
     "data": {
      "text/plain": [
       "count    230.000000\n",
       "mean      14.647826\n",
       "std        3.175007\n",
       "min        8.000000\n",
       "25%       13.000000\n",
       "50%       14.000000\n",
       "75%       16.000000\n",
       "max       24.000000\n",
       "Name: fact_len, dtype: float64"
      ]
     },
     "execution_count": 4,
     "metadata": {},
     "output_type": "execute_result"
    },
    {
     "data": {
      "image/png": "[encoded data removed]",
      "text/plain": [
       "<Figure size 640x480 with 1 Axes>"
      ]
     },
     "metadata": {},
     "output_type": "display_data"
    }
   ],
   "source": [
    "# some data analysis\n",
    "df_facts['fact_len'] = df_facts['fact'].apply(lambda x: len(x.split()))\n",
    "df_fakes['fake_fact_len'] = df_fakes['fake_fact'].apply(lambda x: len(x.split()))\n",
    "\n",
    "plt.hist(df_facts['fact_len'], bins=50, alpha=0.5, label='fact')\n",
    "plt.hist(df_fakes['fake_fact_len'], bins=50, alpha=0.5, label='fake')\n",
    "plt.legend(loc='upper right')\n",
    "\n",
    "df_facts['fact_len'].describe()\n",
    "#df_fakes['fake_fact_len'].describe()\n"
   ]
  },
  {
   "cell_type": "code",
   "execution_count": 5,
   "metadata": {},
   "outputs": [
    {
     "data": {
      "text/plain": [
       "<matplotlib.legend.Legend at 0x130763890>"
      ]
     },
     "execution_count": 5,
     "metadata": {},
     "output_type": "execute_result"
    },
    {
     "data": {
      "image/png": "[encoded data removed]",
      "text/plain": [
       "<Figure size 640x480 with 1 Axes>"
      ]
     },
     "metadata": {},
     "output_type": "display_data"
    }
   ],
   "source": [
    "# t-SNE\n",
    "from sklearn.feature_extraction.text import TfidfVectorizer\n",
    "from sklearn.manifold import TSNE\n",
    "\n",
    "vectorizer = TfidfVectorizer()\n",
    "tsne = TSNE(n_components=2, random_state=0)\n",
    "\n",
    "X_facts = vectorizer.fit_transform(df_facts['fact'])\n",
    "X_facts_tsne = tsne.fit_transform(X_facts.toarray())\n",
    "X_fake = vectorizer.fit_transform(df_fakes['fake_fact'])\n",
    "X_fake_tsne = tsne.fit_transform(X_fake.toarray())\n",
    "# plot\n",
    "plt.scatter(X_facts_tsne[:, 0], X_facts_tsne[:, 1], label='fact')\n",
    "\n",
    "plt.scatter(X_fake_tsne[:, 0], X_fake_tsne[:, 1], label='fake')\n",
    "plt.legend(loc='upper right')"
   ]
  },
  {
   "cell_type": "markdown",
   "metadata": {},
   "source": [
    "## Part 2: Preprocessing"
   ]
  },
  {
   "cell_type": "code",
   "execution_count": 6,
   "metadata": {},
   "outputs": [
    {
     "data": {
      "text/plain": [
       "[('.', 173),\n",
       " (\"'\", 156),\n",
       " ('and', 137),\n",
       " ('the', 113),\n",
       " ('their', 104),\n",
       " ('have', 101),\n",
       " ('are', 98),\n",
       " ('to', 91),\n",
       " ('in', 77),\n",
       " ('they', 64)]"
      ]
     },
     "execution_count": 6,
     "metadata": {},
     "output_type": "execute_result"
    }
   ],
   "source": [
    "# import txt files into nltk\n",
    "from nltk.corpus import PlaintextCorpusReader\n",
    "corpus_root = 'data/'\n",
    "fact_corpus = PlaintextCorpusReader(corpus_root, 'facts.txt')\n",
    "fake_corpus = PlaintextCorpusReader(corpus_root, 'fakes.txt')\n",
    "\n",
    "# create a list of words\n",
    "fact_words = fact_corpus.words()\n",
    "fake_words = fake_corpus.words()\n",
    "\n",
    "# create a list of sentences\n",
    "fact_sents = fact_corpus.sents()\n",
    "fake_sents = fake_corpus.sents()\n",
    "\n",
    "# print most common words\n",
    "fact_words_freq = nltk.FreqDist(fact_words)\n",
    "fake_words_freq = nltk.FreqDist(fake_words)\n",
    "fact_words_freq.most_common(10)\n",
    "fake_words_freq.most_common(10)\n",
    "\n"
   ]
  },
  {
   "cell_type": "code",
   "execution_count": null,
   "metadata": {},
   "outputs": [],
   "source": []
  }
 ],
 "metadata": {
  "kernelspec": {
   "display_name": "comp550-nlp",
   "language": "python",
   "name": "python3"
  },
  "language_info": {
   "codemirror_mode": {
    "name": "ipython",
    "version": 3
   },
   "file_extension": ".py",
   "mimetype": "text/x-python",
   "name": "python",
   "nbconvert_exporter": "python",
   "pygments_lexer": "ipython3",
   "version": "3.11.3"
  },
  "orig_nbformat": 4
 },
 "nbformat": 4,
 "nbformat_minor": 2
}
